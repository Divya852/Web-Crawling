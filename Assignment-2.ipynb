{
  "cells": [
    {
      "cell_type": "code",
      "execution_count": 2,
      "metadata": {
        "colab": {
          "base_uri": "https://localhost:8080/",
          "height": 260
        },
        "id": "FxZSYNU8EZbO",
        "outputId": "88e28519-6d7d-4486-bd9e-c0cef09683cc"
      },
      "outputs": [
        {
          "name": "stdout",
          "output_type": "stream",
          "text": [
            "Requirement already satisfied: requests in /usr/local/lib/python3.10/dist-packages (2.31.0)\n",
            "Requirement already satisfied: beautifulsoup4 in /usr/local/lib/python3.10/dist-packages (4.12.3)\n",
            "Requirement already satisfied: pandas in /usr/local/lib/python3.10/dist-packages (2.0.3)\n",
            "Requirement already satisfied: charset-normalizer<4,>=2 in /usr/local/lib/python3.10/dist-packages (from requests) (3.3.2)\n",
            "Requirement already satisfied: idna<4,>=2.5 in /usr/local/lib/python3.10/dist-packages (from requests) (3.7)\n",
            "Requirement already satisfied: urllib3<3,>=1.21.1 in /usr/local/lib/python3.10/dist-packages (from requests) (2.0.7)\n",
            "Requirement already satisfied: certifi>=2017.4.17 in /usr/local/lib/python3.10/dist-packages (from requests) (2024.6.2)\n",
            "Requirement already satisfied: soupsieve>1.2 in /usr/local/lib/python3.10/dist-packages (from beautifulsoup4) (2.5)\n",
            "Requirement already satisfied: python-dateutil>=2.8.2 in /usr/local/lib/python3.10/dist-packages (from pandas) (2.8.2)\n",
            "Requirement already satisfied: pytz>=2020.1 in /usr/local/lib/python3.10/dist-packages (from pandas) (2023.4)\n",
            "Requirement already satisfied: tzdata>=2022.1 in /usr/local/lib/python3.10/dist-packages (from pandas) (2024.1)\n",
            "Requirement already satisfied: numpy>=1.21.0 in /usr/local/lib/python3.10/dist-packages (from pandas) (1.25.2)\n",
            "Requirement already satisfied: six>=1.5 in /usr/local/lib/python3.10/dist-packages (from python-dateutil>=2.8.2->pandas) (1.16.0)\n",
            "Enter the search parameters as a JSON object: orthopedic\n"
          ]
        },
        {
          "data": {
            "application/javascript": "\n    async function download(id, filename, size) {\n      if (!google.colab.kernel.accessAllowed) {\n        return;\n      }\n      const div = document.createElement('div');\n      const label = document.createElement('label');\n      label.textContent = `Downloading \"${filename}\": `;\n      div.appendChild(label);\n      const progress = document.createElement('progress');\n      progress.max = size;\n      div.appendChild(progress);\n      document.body.appendChild(div);\n\n      const buffers = [];\n      let downloaded = 0;\n\n      const channel = await google.colab.kernel.comms.open(id);\n      // Send a message to notify the kernel that we're ready.\n      channel.send({})\n\n      for await (const message of channel.messages) {\n        // Send a message to notify the kernel that we're ready.\n        channel.send({})\n        if (message.buffers) {\n          for (const buffer of message.buffers) {\n            buffers.push(buffer);\n            downloaded += buffer.byteLength;\n            progress.value = downloaded;\n          }\n        }\n      }\n      const blob = new Blob(buffers, {type: 'application/binary'});\n      const a = document.createElement('a');\n      a.href = window.URL.createObjectURL(blob);\n      a.download = filename;\n      div.appendChild(a);\n      a.click();\n      div.remove();\n    }\n  ",
            "text/plain": [
              "<IPython.core.display.Javascript object>"
            ]
          },
          "metadata": {},
          "output_type": "display_data"
        },
        {
          "data": {
            "application/javascript": "download(\"download_2d0ff0ef-938a-4400-bc42-f4fa08701a88\", \"output.csv\", 1578)",
            "text/plain": [
              "<IPython.core.display.Javascript object>"
            ]
          },
          "metadata": {},
          "output_type": "display_data"
        }
      ],
      "source": [
        "!pip install requests beautifulsoup4 pandas\n",
        "import json\n",
        "import requests\n",
        "from bs4 import BeautifulSoup\n",
        "import pandas as pd\n",
        "\n",
        "\n",
        "def parse_input(json_input):\n",
        "    return json.loads(json_input)\n",
        "\n",
        "\n",
        "def build_query_url(params):\n",
        "    base_url = \"https://www.google.com/search?q=\"\n",
        "    query = f\"{params['primary_category']}+{params['secondary_category']}+{params['geography']}+{params['date_range']}\"\n",
        "    if 'additional_keywords' in params:\n",
        "        query += '+' + '+'.join(params['additional_keywords'])\n",
        "    return base_url + query\n",
        "\n",
        "\n",
        "def fetch_webpage(url):\n",
        "    headers = {'User-Agent': 'Mozilla/5.0'}\n",
        "    response = requests.get(url, headers=headers)\n",
        "    return response.text\n",
        "\n",
        "\n",
        "def extract_urls(html_content):\n",
        "    soup = BeautifulSoup(html_content, 'html.parser')\n",
        "    links = soup.find_all('a')\n",
        "    urls = []\n",
        "    for link in links:\n",
        "        url = link.get('href')\n",
        "        if url and url.startswith('/url?q='):\n",
        "            url = url.split('/url?q=')[1].split('&')[0]\n",
        "            urls.append(url)\n",
        "    return urls\n",
        "\n",
        "def save_to_csv(urls, filename='output.csv'):\n",
        "    df = pd.DataFrame(urls, columns=['URL'])\n",
        "    df.to_csv(filename, index=False)\n",
        "\n",
        "\n",
        "json_input = input(\"Enter the search parameters as a JSON object: \")\n",
        "\n",
        "# Example JSON for reference\n",
        "json_input = '''\n",
        "{\n",
        "    \"primary_category\": \"Medical Journal\",\n",
        "    \"secondary_category\": \"Orthopedic\",\n",
        "    \"geography\": \"US\",\n",
        "    \"date_range\": \"2022\",\n",
        "    \"additional_keywords\": [\"research\", \"articles\"]\n",
        "}\n",
        "'''\n",
        "\n",
        "params = parse_input(json_input)\n",
        "query_url = build_query_url(params)\n",
        "html_content = fetch_webpage(query_url)\n",
        "urls = extract_urls(html_content)\n",
        "save_to_csv(urls)\n",
        "\n",
        "# Display the output file\n",
        "from google.colab import files\n",
        "files.download('output.csv')"
      ]
    }
  ],
  "metadata": {
    "colab": {
      "provenance": []
    },
    "kernelspec": {
      "display_name": "Python 3",
      "name": "python3"
    },
    "language_info": {
      "name": "python"
    }
  },
  "nbformat": 4,
  "nbformat_minor": 0
}
